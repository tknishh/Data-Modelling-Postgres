{
 "cells": [
  {
   "cell_type": "code",
   "execution_count": 1,
   "id": "9c8bee51-533a-4c5d-9e54-615cbd143c3f",
   "metadata": {},
   "outputs": [],
   "source": [
    "# !pip install psycopg2\n",
    "import psycopg2\n",
    "import pandas as pd"
   ]
  },
  {
   "cell_type": "code",
   "execution_count": 2,
   "id": "7775b01d-15ef-4312-aef8-0428b7df2f0c",
   "metadata": {},
   "outputs": [],
   "source": [
    "def create_database ( ) :\n",
    "    # connect to default database\n",
    "    # conn = psycopg2.connect ( \" host - 127.0.0.1 dbname = studentdb user = student password = student \" )\n",
    "    conn = psycopg2.connect ( \" host = 127.0.0.1 dbname = postgres user = postgres password = root\" )                                               \n",
    "    conn.set_session(autocommit=True)\n",
    "    cur = conn.cursor()\n",
    "    # create sparkify database with UTF8 encoding\n",
    "    cur.execute(\"DROP DATABASE IF EXISTS datam_abagg\")        \n",
    "    cur.execute(\"CREATE  DATABASE datam_abagg\")    \n",
    "    # close connection to default database\n",
    "    conn.close ( )\n",
    "    # connect to sparkify database\n",
    "    conn = psycopg2.connect ( \" host = 127.0.0.1 dbname = datam_abagg user = postgres password = root\" )\n",
    "    cur = conn.cursor ( )\n",
    "    \n",
    "    return cur, conn"
   ]
  },
  {
   "cell_type": "code",
   "execution_count": 3,
   "id": "cd20d843-7abf-4dae-8dbd-548c8c586db0",
   "metadata": {},
   "outputs": [],
   "source": [
    "def drop_tables(cur, conn):\n",
    "    for query in drop_table_queries:\n",
    "        cur.execute(query)\n",
    "        conn.commit()"
   ]
  },
  {
   "cell_type": "code",
   "execution_count": 4,
   "id": "6fbad4a7-0d86-4d0e-b5e2-915b0b52b50f",
   "metadata": {},
   "outputs": [],
   "source": [
    "def create_tables(cur, conn):\n",
    "    for query in create_table_queries:\n",
    "        cur.execute(query)\n",
    "        conn.commit()"
   ]
  },
  {
   "cell_type": "code",
   "execution_count": 5,
   "id": "f46ef571-45de-4dfe-916a-4eba39a2e064",
   "metadata": {},
   "outputs": [],
   "source": [
    " ab_agg_data = pd.read_csv('data/ab_test_results_aggregated_views_clicks_2.csv')"
   ]
  },
  {
   "cell_type": "code",
   "execution_count": 6,
   "id": "e5ce36de-9696-4eb8-9cdc-192b0f3ba9d9",
   "metadata": {},
   "outputs": [
    {
     "data": {
      "text/html": [
       "<div>\n",
       "<style scoped>\n",
       "    .dataframe tbody tr th:only-of-type {\n",
       "        vertical-align: middle;\n",
       "    }\n",
       "\n",
       "    .dataframe tbody tr th {\n",
       "        vertical-align: top;\n",
       "    }\n",
       "\n",
       "    .dataframe thead th {\n",
       "        text-align: right;\n",
       "    }\n",
       "</style>\n",
       "<table border=\"1\" class=\"dataframe\">\n",
       "  <thead>\n",
       "    <tr style=\"text-align: right;\">\n",
       "      <th></th>\n",
       "      <th>user_id</th>\n",
       "      <th>group</th>\n",
       "      <th>views</th>\n",
       "      <th>clicks</th>\n",
       "    </tr>\n",
       "  </thead>\n",
       "  <tbody>\n",
       "    <tr>\n",
       "      <th>0</th>\n",
       "      <td>1</td>\n",
       "      <td>control</td>\n",
       "      <td>10.0</td>\n",
       "      <td>0.0</td>\n",
       "    </tr>\n",
       "    <tr>\n",
       "      <th>1</th>\n",
       "      <td>2</td>\n",
       "      <td>control</td>\n",
       "      <td>1.0</td>\n",
       "      <td>0.0</td>\n",
       "    </tr>\n",
       "    <tr>\n",
       "      <th>2</th>\n",
       "      <td>3</td>\n",
       "      <td>control</td>\n",
       "      <td>1.0</td>\n",
       "      <td>0.0</td>\n",
       "    </tr>\n",
       "    <tr>\n",
       "      <th>3</th>\n",
       "      <td>4</td>\n",
       "      <td>control</td>\n",
       "      <td>2.0</td>\n",
       "      <td>0.0</td>\n",
       "    </tr>\n",
       "    <tr>\n",
       "      <th>4</th>\n",
       "      <td>5</td>\n",
       "      <td>control</td>\n",
       "      <td>3.0</td>\n",
       "      <td>0.0</td>\n",
       "    </tr>\n",
       "  </tbody>\n",
       "</table>\n",
       "</div>"
      ],
      "text/plain": [
       "   user_id    group  views  clicks\n",
       "0        1  control   10.0     0.0\n",
       "1        2  control    1.0     0.0\n",
       "2        3  control    1.0     0.0\n",
       "3        4  control    2.0     0.0\n",
       "4        5  control    3.0     0.0"
      ]
     },
     "execution_count": 6,
     "metadata": {},
     "output_type": "execute_result"
    }
   ],
   "source": [
    "ab_agg_data.head()"
   ]
  },
  {
   "cell_type": "code",
   "execution_count": 7,
   "id": "8b99df0d-ffca-497b-a2c6-7f4c37538214",
   "metadata": {},
   "outputs": [
    {
     "data": {
      "text/plain": [
       "Index(['user_id', 'group', 'views', 'clicks'], dtype='object')"
      ]
     },
     "execution_count": 7,
     "metadata": {},
     "output_type": "execute_result"
    }
   ],
   "source": [
    "ab_agg_data.columns"
   ]
  },
  {
   "cell_type": "code",
   "execution_count": 8,
   "id": "6aa0b8a4-2e5e-4033-b5ea-216f8556a844",
   "metadata": {},
   "outputs": [],
   "source": [
    "ab_agg_data.rename(columns = {'group':'g1'}, inplace = True)"
   ]
  },
  {
   "cell_type": "code",
   "execution_count": 9,
   "id": "6911348f-3f8d-4a0c-90c0-f985d7384bc4",
   "metadata": {},
   "outputs": [],
   "source": [
    "cur, conn = create_database()"
   ]
  },
  {
   "cell_type": "code",
   "execution_count": 10,
   "id": "7eb6ce30-fe8d-4c93-b1da-8aa19fab5641",
   "metadata": {},
   "outputs": [],
   "source": [
    "ab_agg_table = (\"\"\"CREATE TABLE IF NOT EXISTS ab_agg(user_id NUMERIC PRIMARY KEY, g1 VARCHAR, views NUMERIC, clicks NUMERIC)\"\"\")"
   ]
  },
  {
   "cell_type": "code",
   "execution_count": 11,
   "id": "13309ce6-7a00-4e9b-87fb-cf6e0d978dc7",
   "metadata": {},
   "outputs": [],
   "source": [
    "cur.execute(ab_agg_table)\n",
    "conn.commit()"
   ]
  },
  {
   "cell_type": "code",
   "execution_count": 12,
   "id": "0f96b88b-a794-481f-b038-bb7fe65d6fb8",
   "metadata": {},
   "outputs": [],
   "source": [
    "insert_table = (\"\"\"Insert into ab_agg(user_id, g1, views, clicks) values (%s,%s,%s,%s)\"\"\")"
   ]
  },
  {
   "cell_type": "code",
   "execution_count": 13,
   "id": "ea588d0c-f69d-49d6-bc9f-5eae31771a2a",
   "metadata": {},
   "outputs": [],
   "source": [
    "for i, row in ab_agg_data.iterrows():\n",
    "    cur.execute(insert_table, list(row))"
   ]
  },
  {
   "cell_type": "code",
   "execution_count": 14,
   "id": "6ff0b35f-8ba6-4df3-8be9-08a91a14d846",
   "metadata": {},
   "outputs": [],
   "source": [
    "conn.commit()"
   ]
  }
 ],
 "metadata": {
  "kernelspec": {
   "display_name": "Python 3 (ipykernel)",
   "language": "python",
   "name": "python3"
  },
  "language_info": {
   "codemirror_mode": {
    "name": "ipython",
    "version": 3
   },
   "file_extension": ".py",
   "mimetype": "text/x-python",
   "name": "python",
   "nbconvert_exporter": "python",
   "pygments_lexer": "ipython3",
   "version": "3.10.5"
  }
 },
 "nbformat": 4,
 "nbformat_minor": 5
}
